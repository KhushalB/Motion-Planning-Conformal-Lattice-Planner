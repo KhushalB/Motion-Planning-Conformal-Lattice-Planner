{
 "cells": [
  {
   "cell_type": "code",
   "execution_count": 20,
   "id": "resistant-england",
   "metadata": {},
   "outputs": [],
   "source": [
    "from extract_map import extract_map\n",
    "\n",
    "from l5kit.configs import load_config_data\n",
    "from l5kit.data import ChunkedDataset, LocalDataManager, MapAPI\n",
    "from l5kit.dataset import EgoDataset, AgentDataset\n",
    "from l5kit.geometry import transform_points\n",
    "from l5kit.rasterization import build_rasterizer\n",
    "from l5kit.rasterization.rasterizer_builder import _load_metadata\n",
    "\n",
    "import numpy as np\n",
    "\n",
    "import os"
   ]
  },
  {
   "cell_type": "code",
   "execution_count": 21,
   "id": "roman-truck",
   "metadata": {},
   "outputs": [],
   "source": [
    "os.environ[\"L5KIT_DATA_FOLDER\"] = \"/Users/nicole/OSU/l5kit/prediction-dataset\"\n",
    "\n",
    "cfg = load_config_data(\"/Users/nicole/OSU/l5kit/examples/visualisation/visualisation_config.yaml\")"
   ]
  },
  {
   "cell_type": "code",
   "execution_count": 22,
   "id": "recognized-advance",
   "metadata": {},
   "outputs": [],
   "source": [
    "dm = LocalDataManager()\n",
    "dataset_path = dm.require(cfg[\"val_data_loader\"][\"key\"])\n",
    "zarr_dataset = ChunkedDataset(dataset_path)\n",
    "zarr_dataset.open()\n",
    "\n",
    "rast = build_rasterizer(cfg, dm)\n",
    "# train_dataset = AgentDataset(cfg, zarr_dataset, rast)\n",
    "train_dataset = EgoDataset(cfg, zarr_dataset, rast)"
   ]
  },
  {
   "cell_type": "code",
   "execution_count": 23,
   "id": "owned-anniversary",
   "metadata": {},
   "outputs": [],
   "source": [
    "semantic_map_filepath = dm.require(cfg['raster_params']['semantic_map_key'])\n",
    "\n",
    "dataset_meta = _load_metadata('/Users/nicole/OSU/l5kit/prediction-dataset/semantic_map/' + \n",
    "                              cfg['raster_params']['dataset_meta_key'], \n",
    "                              dm)\n",
    "world_to_ecef = np.array(dataset_meta[\"world_to_ecef\"], dtype=np.float64)\n",
    "\n",
    "map_api = MapAPI(semantic_map_filepath, world_to_ecef)\n",
    "lane_bounds = map_api.bounds_info[\"lanes\"][\"bounds\"]"
   ]
  },
  {
   "cell_type": "code",
   "execution_count": 24,
   "id": "destroyed-swaziland",
   "metadata": {},
   "outputs": [
    {
     "data": {
      "text/plain": [
       "array([[  883.0814253 , -1550.10978153],\n",
       "       [  959.24549828, -1500.92603137]])"
      ]
     },
     "execution_count": 24,
     "metadata": {},
     "output_type": "execute_result"
    }
   ],
   "source": [
    "lane_bounds[0]\n"
   ]
  },
  {
   "cell_type": "code",
   "execution_count": 25,
   "id": "waiting-overview",
   "metadata": {},
   "outputs": [
    {
     "ename": "NameError",
     "evalue": "name 'data' is not defined",
     "output_type": "error",
     "traceback": [
      "\u001b[0;31m---------------------------------------------------------------------------\u001b[0m",
      "\u001b[0;31mNameError\u001b[0m                                 Traceback (most recent call last)",
      "\u001b[0;32m<ipython-input-25-8b8e00b57add>\u001b[0m in \u001b[0;36m<module>\u001b[0;34m\u001b[0m\n\u001b[1;32m      1\u001b[0m transform_points(lane_bounds[0],\n\u001b[0;32m----> 2\u001b[0;31m                  data[\"raster_from_agent\"]) \n\u001b[0m",
      "\u001b[0;31mNameError\u001b[0m: name 'data' is not defined"
     ]
    }
   ],
   "source": [
    "transform_points(lane_bounds[0],\n",
    "                 data[\"raster_from_agent\"]) "
   ]
  },
  {
   "cell_type": "code",
   "execution_count": 6,
   "id": "friendly-teach",
   "metadata": {},
   "outputs": [],
   "source": [
    "our_map, start_position, end_position, start_heading, end_heading = extract_map(train_dataset[50], rast)"
   ]
  },
  {
   "cell_type": "code",
   "execution_count": 7,
   "id": "prospective-supplement",
   "metadata": {},
   "outputs": [
    {
     "name": "stdout",
     "output_type": "stream",
     "text": [
      "[[1. 2. 2. ... 2. 2. 2.]\n",
      " [1. 1. 2. ... 2. 2. 0.]\n",
      " [1. 1. 2. ... 2. 0. 0.]\n",
      " ...\n",
      " [2. 2. 1. ... 0. 0. 0.]\n",
      " [2. 2. 1. ... 0. 0. 0.]\n",
      " [2. 2. 2. ... 0. 0. 0.]]\n"
     ]
    }
   ],
   "source": [
    "print(our_map)"
   ]
  },
  {
   "cell_type": "code",
   "execution_count": 8,
   "id": "owned-twenty",
   "metadata": {},
   "outputs": [
    {
     "name": "stdout",
     "output_type": "stream",
     "text": [
      "[ 56. 112.]\n"
     ]
    }
   ],
   "source": [
    "print(start_position)"
   ]
  },
  {
   "cell_type": "code",
   "execution_count": 9,
   "id": "treated-macedonia",
   "metadata": {},
   "outputs": [
    {
     "name": "stdout",
     "output_type": "stream",
     "text": [
      "[190.51799011 112.31768188]\n"
     ]
    }
   ],
   "source": [
    "print(end_position)"
   ]
  },
  {
   "cell_type": "code",
   "execution_count": 10,
   "id": "opponent-blink",
   "metadata": {},
   "outputs": [
    {
     "name": "stdout",
     "output_type": "stream",
     "text": [
      "[0.]\n"
     ]
    }
   ],
   "source": [
    "print(start_heading)"
   ]
  },
  {
   "cell_type": "code",
   "execution_count": 11,
   "id": "clean-motivation",
   "metadata": {},
   "outputs": [
    {
     "name": "stdout",
     "output_type": "stream",
     "text": [
      "[-0.00290632]\n"
     ]
    }
   ],
   "source": [
    "print(end_heading)"
   ]
  },
  {
   "cell_type": "code",
   "execution_count": 12,
   "id": "plastic-vietnamese",
   "metadata": {},
   "outputs": [
    {
     "data": {
      "text/plain": [
       "array([[1., 1., 1., 1., 1., 1., 1., 1., 1., 1.],\n",
       "       [1., 1., 1., 1., 1., 1., 1., 1., 1., 1.],\n",
       "       [2., 2., 2., 2., 2., 2., 2., 2., 2., 2.],\n",
       "       [2., 2., 2., 2., 2., 2., 2., 2., 2., 2.],\n",
       "       [2., 2., 2., 2., 2., 2., 2., 2., 2., 2.],\n",
       "       [1., 1., 1., 1., 1., 1., 1., 1., 1., 1.],\n",
       "       [1., 1., 1., 1., 1., 1., 1., 1., 1., 1.],\n",
       "       [1., 1., 1., 1., 1., 1., 1., 1., 1., 1.],\n",
       "       [2., 2., 2., 2., 2., 2., 2., 2., 2., 2.],\n",
       "       [2., 2., 2., 2., 2., 2., 2., 2., 2., 2.],\n",
       "       [2., 2., 2., 2., 2., 2., 2., 2., 2., 2.],\n",
       "       [1., 1., 1., 1., 1., 1., 1., 1., 1., 1.],\n",
       "       [1., 1., 1., 1., 1., 1., 1., 1., 1., 1.],\n",
       "       [1., 1., 1., 1., 1., 1., 1., 1., 1., 1.],\n",
       "       [2., 2., 2., 2., 2., 2., 2., 2., 2., 2.],\n",
       "       [2., 2., 2., 2., 2., 2., 2., 2., 2., 2.],\n",
       "       [2., 2., 2., 2., 2., 2., 2., 2., 2., 2.],\n",
       "       [2., 2., 2., 2., 2., 2., 2., 2., 2., 2.],\n",
       "       [2., 2., 2., 2., 2., 2., 2., 2., 2., 2.],\n",
       "       [2., 2., 2., 2., 2., 2., 2., 2., 2., 2.],\n",
       "       [0., 0., 0., 0., 0., 0., 0., 0., 0., 0.],\n",
       "       [0., 0., 0., 0., 0., 0., 0., 0., 0., 0.],\n",
       "       [0., 0., 0., 0., 0., 0., 0., 0., 0., 0.],\n",
       "       [0., 0., 0., 0., 0., 0., 0., 0., 0., 0.],\n",
       "       [0., 0., 0., 0., 0., 0., 0., 0., 0., 0.]])"
      ]
     },
     "execution_count": 12,
     "metadata": {},
     "output_type": "execute_result"
    }
   ],
   "source": [
    "our_map[100:125,0:10]"
   ]
  },
  {
   "cell_type": "code",
   "execution_count": null,
   "id": "outstanding-customer",
   "metadata": {},
   "outputs": [],
   "source": []
  }
 ],
 "metadata": {
  "kernelspec": {
   "display_name": "Python 3",
   "language": "python",
   "name": "python3"
  },
  "language_info": {
   "codemirror_mode": {
    "name": "ipython",
    "version": 3
   },
   "file_extension": ".py",
   "mimetype": "text/x-python",
   "name": "python",
   "nbconvert_exporter": "python",
   "pygments_lexer": "ipython3",
   "version": "3.6.12"
  }
 },
 "nbformat": 4,
 "nbformat_minor": 5
}
