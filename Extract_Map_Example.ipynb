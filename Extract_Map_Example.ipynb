{
 "cells": [
  {
   "cell_type": "code",
   "execution_count": 12,
   "id": "resistant-england",
   "metadata": {},
   "outputs": [],
   "source": [
    "from extract_map import extract_map\n",
    "\n",
    "from l5kit.configs import load_config_data\n",
    "from l5kit.data import ChunkedDataset, LocalDataManager\n",
    "from l5kit.dataset import EgoDataset, AgentDataset\n",
    "from l5kit.rasterization import build_rasterizer\n",
    "\n",
    "import os"
   ]
  },
  {
   "cell_type": "code",
   "execution_count": 10,
   "id": "roman-truck",
   "metadata": {},
   "outputs": [],
   "source": [
    "os.environ[\"L5KIT_DATA_FOLDER\"] = \"/Users/nicole/OSU/l5kit/prediction-dataset\"\n",
    "\n",
    "cfg = load_config_data(\"/Users/nicole/OSU/l5kit/examples/visualisation/visualisation_config.yaml\")"
   ]
  },
  {
   "cell_type": "code",
   "execution_count": 11,
   "id": "recognized-advance",
   "metadata": {},
   "outputs": [],
   "source": [
    "dm = LocalDataManager()\n",
    "dataset_path = dm.require(cfg[\"val_data_loader\"][\"key\"])\n",
    "zarr_dataset = ChunkedDataset(dataset_path)\n",
    "zarr_dataset.open()\n",
    "\n",
    "rast = build_rasterizer(cfg, dm)\n",
    "train_dataset = AgentDataset(cfg, zarr_dataset, rast)"
   ]
  },
  {
   "cell_type": "code",
   "execution_count": 13,
   "id": "friendly-teach",
   "metadata": {},
   "outputs": [
    {
     "data": {
      "image/png": "[encoded data removed]",
      "text/plain": [
       "<Figure size 432x288 with 1 Axes>"
      ]
     },
     "metadata": {
      "needs_background": "light"
     },
     "output_type": "display_data"
    }
   ],
   "source": [
    "our_map, start_position, end_position = extract_map(train_dataset, 0, plot=True)"
   ]
  },
  {
   "cell_type": "code",
   "execution_count": 17,
   "id": "prospective-supplement",
   "metadata": {},
   "outputs": [
    {
     "name": "stdout",
     "output_type": "stream",
     "text": [
      "[[2. 2. 2. ... 1. 2. 2.]\n",
      " [2. 2. 2. ... 1. 2. 2.]\n",
      " [2. 2. 2. ... 1. 2. 2.]\n",
      " ...\n",
      " [0. 0. 0. ... 0. 0. 0.]\n",
      " [0. 0. 0. ... 0. 0. 0.]\n",
      " [0. 0. 0. ... 0. 0. 0.]]\n"
     ]
    }
   ],
   "source": [
    "print(our_map)"
   ]
  },
  {
   "cell_type": "code",
   "execution_count": 18,
   "id": "owned-twenty",
   "metadata": {},
   "outputs": [
    {
     "name": "stdout",
     "output_type": "stream",
     "text": [
      "[ 57.71508992 111.90376341]\n"
     ]
    }
   ],
   "source": [
    "print(start_position)"
   ]
  },
  {
   "cell_type": "code",
   "execution_count": 19,
   "id": "treated-macedonia",
   "metadata": {},
   "outputs": [
    {
     "name": "stdout",
     "output_type": "stream",
     "text": [
      "[ 56. 112.]\n"
     ]
    }
   ],
   "source": [
    "print(end_position)"
   ]
  },
  {
   "cell_type": "code",
   "execution_count": null,
   "id": "plastic-vietnamese",
   "metadata": {},
   "outputs": [],
   "source": []
  }
 ],
 "metadata": {
  "kernelspec": {
   "display_name": "Python 3",
   "language": "python",
   "name": "python3"
  },
  "language_info": {
   "codemirror_mode": {
    "name": "ipython",
    "version": 3
   },
   "file_extension": ".py",
   "mimetype": "text/x-python",
   "name": "python",
   "nbconvert_exporter": "python",
   "pygments_lexer": "ipython3",
   "version": "3.6.12"
  }
 },
 "nbformat": 4,
 "nbformat_minor": 5
}
