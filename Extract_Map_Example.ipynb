{
 "cells": [
  {
   "cell_type": "code",
   "execution_count": 1,
   "id": "resistant-england",
   "metadata": {},
   "outputs": [],
   "source": [
    "from extract_map import extract_map\n",
    "\n",
    "from l5kit.configs import load_config_data\n",
    "from l5kit.data import ChunkedDataset, LocalDataManager\n",
    "from l5kit.dataset import EgoDataset, AgentDataset\n",
    "from l5kit.rasterization import build_rasterizer\n",
    "\n",
    "import os"
   ]
  },
  {
   "cell_type": "code",
   "execution_count": 2,
   "id": "roman-truck",
   "metadata": {},
   "outputs": [],
   "source": [
    "os.environ[\"L5KIT_DATA_FOLDER\"] = \"/Users/nicole/OSU/l5kit/prediction-dataset\"\n",
    "\n",
    "cfg = load_config_data(\"/Users/nicole/OSU/l5kit/examples/visualisation/visualisation_config.yaml\")"
   ]
  },
  {
   "cell_type": "code",
   "execution_count": 3,
   "id": "recognized-advance",
   "metadata": {},
   "outputs": [],
   "source": [
    "dm = LocalDataManager()\n",
    "dataset_path = dm.require(cfg[\"val_data_loader\"][\"key\"])\n",
    "zarr_dataset = ChunkedDataset(dataset_path)\n",
    "zarr_dataset.open()\n",
    "\n",
    "rast = build_rasterizer(cfg, dm)\n",
    "# train_dataset = AgentDataset(cfg, zarr_dataset, rast)\n",
    "train_dataset = EgoDataset(cfg, zarr_dataset, rast)"
   ]
  },
  {
   "cell_type": "code",
   "execution_count": 6,
   "id": "friendly-teach",
   "metadata": {},
   "outputs": [],
   "source": [
    "our_map, start_position, end_position, start_heading, end_heading = extract_map(train_dataset[50], rast)"
   ]
  },
  {
   "cell_type": "code",
   "execution_count": 7,
   "id": "prospective-supplement",
   "metadata": {},
   "outputs": [
    {
     "name": "stdout",
     "output_type": "stream",
     "text": [
      "[[1. 2. 2. ... 2. 2. 2.]\n",
      " [1. 1. 2. ... 2. 2. 0.]\n",
      " [1. 1. 2. ... 2. 0. 0.]\n",
      " ...\n",
      " [2. 2. 1. ... 0. 0. 0.]\n",
      " [2. 2. 1. ... 0. 0. 0.]\n",
      " [2. 2. 2. ... 0. 0. 0.]]\n"
     ]
    }
   ],
   "source": [
    "print(our_map)"
   ]
  },
  {
   "cell_type": "code",
   "execution_count": 8,
   "id": "owned-twenty",
   "metadata": {},
   "outputs": [
    {
     "name": "stdout",
     "output_type": "stream",
     "text": [
      "[ 56. 112.]\n"
     ]
    }
   ],
   "source": [
    "print(start_position)"
   ]
  },
  {
   "cell_type": "code",
   "execution_count": 9,
   "id": "treated-macedonia",
   "metadata": {},
   "outputs": [
    {
     "name": "stdout",
     "output_type": "stream",
     "text": [
      "[190.51799011 112.31768188]\n"
     ]
    }
   ],
   "source": [
    "print(end_position)"
   ]
  },
  {
   "cell_type": "code",
   "execution_count": 10,
   "id": "opponent-blink",
   "metadata": {},
   "outputs": [
    {
     "name": "stdout",
     "output_type": "stream",
     "text": [
      "[0.]\n"
     ]
    }
   ],
   "source": [
    "print(start_heading)"
   ]
  },
  {
   "cell_type": "code",
   "execution_count": 11,
   "id": "clean-motivation",
   "metadata": {},
   "outputs": [
    {
     "name": "stdout",
     "output_type": "stream",
     "text": [
      "[-0.00290632]\n"
     ]
    }
   ],
   "source": [
    "print(end_heading)"
   ]
  },
  {
   "cell_type": "code",
   "execution_count": 12,
   "id": "plastic-vietnamese",
   "metadata": {},
   "outputs": [
    {
     "data": {
      "text/plain": [
       "array([[1., 1., 1., 1., 1., 1., 1., 1., 1., 1.],\n",
       "       [1., 1., 1., 1., 1., 1., 1., 1., 1., 1.],\n",
       "       [2., 2., 2., 2., 2., 2., 2., 2., 2., 2.],\n",
       "       [2., 2., 2., 2., 2., 2., 2., 2., 2., 2.],\n",
       "       [2., 2., 2., 2., 2., 2., 2., 2., 2., 2.],\n",
       "       [1., 1., 1., 1., 1., 1., 1., 1., 1., 1.],\n",
       "       [1., 1., 1., 1., 1., 1., 1., 1., 1., 1.],\n",
       "       [1., 1., 1., 1., 1., 1., 1., 1., 1., 1.],\n",
       "       [2., 2., 2., 2., 2., 2., 2., 2., 2., 2.],\n",
       "       [2., 2., 2., 2., 2., 2., 2., 2., 2., 2.],\n",
       "       [2., 2., 2., 2., 2., 2., 2., 2., 2., 2.],\n",
       "       [1., 1., 1., 1., 1., 1., 1., 1., 1., 1.],\n",
       "       [1., 1., 1., 1., 1., 1., 1., 1., 1., 1.],\n",
       "       [1., 1., 1., 1., 1., 1., 1., 1., 1., 1.],\n",
       "       [2., 2., 2., 2., 2., 2., 2., 2., 2., 2.],\n",
       "       [2., 2., 2., 2., 2., 2., 2., 2., 2., 2.],\n",
       "       [2., 2., 2., 2., 2., 2., 2., 2., 2., 2.],\n",
       "       [2., 2., 2., 2., 2., 2., 2., 2., 2., 2.],\n",
       "       [2., 2., 2., 2., 2., 2., 2., 2., 2., 2.],\n",
       "       [2., 2., 2., 2., 2., 2., 2., 2., 2., 2.],\n",
       "       [0., 0., 0., 0., 0., 0., 0., 0., 0., 0.],\n",
       "       [0., 0., 0., 0., 0., 0., 0., 0., 0., 0.],\n",
       "       [0., 0., 0., 0., 0., 0., 0., 0., 0., 0.],\n",
       "       [0., 0., 0., 0., 0., 0., 0., 0., 0., 0.],\n",
       "       [0., 0., 0., 0., 0., 0., 0., 0., 0., 0.]])"
      ]
     },
     "execution_count": 12,
     "metadata": {},
     "output_type": "execute_result"
    }
   ],
   "source": [
    "our_map[100:125,0:10]"
   ]
  },
  {
   "cell_type": "code",
   "execution_count": null,
   "id": "outstanding-customer",
   "metadata": {},
   "outputs": [],
   "source": []
  }
 ],
 "metadata": {
  "kernelspec": {
   "display_name": "Python 3",
   "language": "python",
   "name": "python3"
  },
  "language_info": {
   "codemirror_mode": {
    "name": "ipython",
    "version": 3
   },
   "file_extension": ".py",
   "mimetype": "text/x-python",
   "name": "python",
   "nbconvert_exporter": "python",
   "pygments_lexer": "ipython3",
   "version": "3.6.12"
  }
 },
 "nbformat": 4,
 "nbformat_minor": 5
}
